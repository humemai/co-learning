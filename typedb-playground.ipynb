{
 "cells": [
  {
   "cell_type": "markdown",
   "metadata": {},
   "source": [
    "## Check the databases"
   ]
  },
  {
   "cell_type": "code",
   "execution_count": 1,
   "metadata": {},
   "outputs": [
    {
     "name": "stdout",
     "output_type": "stream",
     "text": [
      "Number of databases: 1\n",
      "Database name: CP_ontology\n"
     ]
    }
   ],
   "source": [
    "from typedb.client import TypeDB\n",
    "\n",
    "with TypeDB.core_client(\"localhost:1729\") as client:\n",
    "    # Retrieve all databases\n",
    "    databases = client.databases().all()\n",
    "    \n",
    "    # Print the count\n",
    "    print(f\"Number of databases: {len(databases)}\")\n",
    "\n",
    "    # Print each database name\n",
    "    for db in databases:\n",
    "        print(f\"Database name: {db.name()}\")\n"
   ]
  },
  {
   "cell_type": "code",
   "execution_count": 2,
   "metadata": {},
   "outputs": [
    {
     "name": "stdout",
     "output_type": "stream",
     "text": [
      "===== Collaboration Patterns in Database =====\n",
      "Found CP: name='CP_known'\n"
     ]
    }
   ],
   "source": [
    "from typedb.client import TypeDB, SessionType, TransactionType\n",
    "\n",
    "DATABASE_NAME = \"CP_ontology\"\n",
    "\n",
    "with TypeDB.core_client(\"localhost:1729\") as client:\n",
    "    # Open a session to your \"CP_ontology\" database\n",
    "    with client.session(DATABASE_NAME, SessionType.DATA) as session:\n",
    "        # Use a READ transaction to retrieve data\n",
    "        with session.transaction(TransactionType.READ) as read_tx:\n",
    "            # Query: Get all entities of type collaboration_pattern\n",
    "            # and their 'name' attributes\n",
    "            query = \"\"\"\n",
    "                match\n",
    "                  $cp isa collaboration_pattern, has name $cp_name;\n",
    "                get $cp, $cp_name;\n",
    "            \"\"\"\n",
    "            answers = read_tx.query().match(query)\n",
    "\n",
    "            # Print out what we find\n",
    "            print(\"===== Collaboration Patterns in Database =====\")\n",
    "            for answer in answers:\n",
    "                # 'cp' is the entity concept for the collaboration_pattern\n",
    "                cp_concept = answer.get(\"cp\")\n",
    "                # 'cp_name' is the attribute concept for the 'name' attribute\n",
    "                cp_name_attr = answer.get(\"cp_name\")\n",
    "\n",
    "                # # In newer typedb-client versions, use .iid instead of .get_id()\n",
    "                # cp_id = cp_concept.iid\n",
    "                # Typically the attribute value is in ._value or .get_value() depending on typedb-client version\n",
    "                cp_name = cp_name_attr._value\n",
    "                print(f\"Found CP: name='{cp_name}'\")"
   ]
  },
  {
   "cell_type": "code",
   "execution_count": null,
   "metadata": {},
   "outputs": [],
   "source": []
  }
 ],
 "metadata": {
  "kernelspec": {
   "display_name": "co-learning",
   "language": "python",
   "name": "python3"
  },
  "language_info": {
   "codemirror_mode": {
    "name": "ipython",
    "version": 3
   },
   "file_extension": ".py",
   "mimetype": "text/x-python",
   "name": "python",
   "nbconvert_exporter": "python",
   "pygments_lexer": "ipython3",
   "version": "3.8.20"
  }
 },
 "nbformat": 4,
 "nbformat_minor": 2
}
