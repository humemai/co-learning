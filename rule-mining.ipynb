{
 "cells": [
  {
   "cell_type": "code",
   "execution_count": 6,
   "metadata": {},
   "outputs": [
    {
     "name": "stdout",
     "output_type": "stream",
     "text": [
      "number of files: 1\n",
      "\n"
     ]
    }
   ],
   "source": [
    "import warnings\n",
    "from typing import List\n",
    "import math\n",
    "\n",
    "import pandas as pd\n",
    "from glob import glob\n",
    "import re\n",
    "from bs4 import BeautifulSoup\n",
    "\n",
    "warnings.filterwarnings(\"ignore\", category=DeprecationWarning)\n",
    "\n",
    "# Get a list of all xlsx files\n",
    "files = sorted(glob(\"./CPs exp 2a data/*.xlsx\"))[:1]\n",
    "\n",
    "# all_string_values = []\n",
    "situations = []\n",
    "actions = []\n",
    "\n",
    "print(f\"number of files: {len(files)}\\n\")\n",
    "# Loop through the list of files and read each file\n",
    "for file in files:\n",
    "    dataframe = pd.read_excel(file)\n",
    "    # Now you can do something with the data\n",
    "    # print(dataframe.columns)\n",
    "    assert len(dataframe.situation) == len(dataframe.actions)\n",
    "\n",
    "    for situation, action in zip(dataframe.situation, dataframe.actions):\n",
    "        # Parse HTML content\n",
    "        situation_parsed = []\n",
    "\n",
    "        if isinstance(situation, float) and math.isnan(situation):\n",
    "            situation_parsed = None\n",
    "\n",
    "        else:\n",
    "            soup = BeautifulSoup(situation, \"html.parser\")\n",
    "\n",
    "            # Extract data\n",
    "            for div in soup.find_all(\"div\", class_=\"item\"):\n",
    "                # Extract class and text content\n",
    "\n",
    "                class_name = (\n",
    "                    div.get(\"class\")[1]\n",
    "                    if len(div.get(\"class\")) > 1\n",
    "                    else div.get(\"class\")[0]\n",
    "                )\n",
    "                # Process the text content more carefully to add spaces around buttons or special divs\n",
    "                texts = div.find_all(text=True)\n",
    "                text_content = \" \".join(text.strip() for text in texts).strip().lower()\n",
    "                situation_parsed.append((class_name, text_content))\n",
    "\n",
    "        situations.append(situation_parsed)\n",
    "\n",
    "        soup = BeautifulSoup(action, \"html.parser\")\n",
    "        action_parsed = {}\n",
    "\n",
    "        # Extract boxes\n",
    "        boxes = soup.find_all(\"div\", class_=\"box box_action\")\n",
    "\n",
    "        for box in boxes:\n",
    "            box_id = box.get(\"id\")\n",
    "            action_parsed[box_id] = []\n",
    "\n",
    "            items = box.find_all(\"div\", class_=\"item\")\n",
    "            for item in items:\n",
    "                class_name = (\n",
    "                    item.get(\"class\")[1]\n",
    "                    if len(item.get(\"class\")) > 1\n",
    "                    else item.get(\"class\")[0]\n",
    "                )\n",
    "                # Process the text content more carefully to add spaces around buttons or special divs\n",
    "                texts = item.find_all(text=True)\n",
    "                text_content = \" \".join(text.strip() for text in texts).strip().lower()\n",
    "                action_parsed[box_id].append((class_name, text_content))\n",
    "\n",
    "\n",
    "        actions.append(action_parsed)\n",
    "        assert len(situations) == len(actions)\n",
    "\n",
    "situation_action_pairs = [for (situations, actions)]\n",
    "# print(f\"The number of sitation_action pairs: {len(situation_action_pairs)}\")"
   ]
  },
  {
   "cell_type": "code",
   "execution_count": 7,
   "metadata": {},
   "outputs": [
    {
     "data": {
      "text/plain": [
       "(29, 29)"
      ]
     },
     "execution_count": 7,
     "metadata": {},
     "output_type": "execute_result"
    }
   ],
   "source": [
    "len(situations), len(actions)"
   ]
  },
  {
   "cell_type": "code",
   "execution_count": 12,
   "metadata": {},
   "outputs": [
    {
     "name": "stdout",
     "output_type": "stream",
     "text": [
      "0\n",
      "[('locations', 'top of rock pile'), ('objects', 'large rock')]\n",
      "{'patternbox_1': [('agents', 'robot'), ('actions', 'move to object'), ('objects', 'large rock')], 'patternbox_2': [('agents', 'human'), ('actions', 'move to object'), ('objects', 'large rock')], 'patternbox_3': [('agents', 'robot'), ('actions', 'break object in location'), ('objects', 'large rock'), ('locations', 'right side of rock pile')], 'patternbox_4': [('agents', 'robot'), ('actions', 'break object in location'), ('objects', 'large rock'), ('locations', 'top of rock pile')], 'patternbox_5': [('agents', 'human'), ('actions', 'pick up object in location'), ('objects', 'small rock'), ('locations', 'top of rock pile')], 'patternbox_6': [('agents', 'robot'), ('actions', 'pick up object in location'), ('objects', 'small rock'), ('locations', 'top of rock pile')]}\n",
      "\n",
      "1\n",
      "[('locations', 'top of rock pile'), ('objects', 'large rock')]\n",
      "{'patternbox_1': [('agents', 'robot'), ('actions', 'move to object'), ('objects', 'large rock')], 'patternbox_2': [('agents', 'human'), ('actions', 'move to object'), ('objects', 'large rock')], 'patternbox_3': [('agents', 'robot'), ('actions', 'break object in location'), ('objects', 'large rock'), ('locations', 'right side of rock pile')], 'patternbox_4': [('agents', 'robot'), ('actions', 'break object in location'), ('objects', 'large rock'), ('locations', 'bottom of rock pile')], 'patternbox_5': [('agents', 'human'), ('actions', 'pick up object in location'), ('objects', 'small rock'), ('locations', 'top of rock pile')], 'patternbox_6': [('agents', 'robot'), ('actions', 'pick up object in location'), ('objects', 'small rock'), ('locations', 'top of rock pile')]}\n",
      "\n",
      "2\n",
      "[('locations', 'top of rock pile'), ('objects', 'large rock'), ('locations', 'bottom of rock pile'), ('objects', 'large rock')]\n",
      "{'patternbox_1': [('agents', 'robot'), ('actions', 'move to object'), ('objects', 'large rock')], 'patternbox_2': [('agents', 'human'), ('actions', 'move to object'), ('objects', 'large rock')], 'patternbox_3': [('agents', 'robot'), ('actions', 'break object in location'), ('objects', 'large rock'), ('locations', 'right side of rock pile')], 'patternbox_4': [('agents', 'robot'), ('actions', 'break object in location'), ('objects', 'large rock'), ('locations', 'bottom of rock pile')], 'patternbox_5': [('agents', 'human'), ('actions', 'pick up object in location'), ('objects', 'small rock'), ('locations', 'top of rock pile')], 'patternbox_6': [('agents', 'robot'), ('actions', 'pick up object in location'), ('objects', 'small rock'), ('locations', 'top of rock pile')]}\n",
      "\n",
      "3\n",
      "[('counters', 'all'), ('objects', 'small rock'), ('locations', 'top of rock pile')]\n",
      "{'patternbox_1': [('agents', 'human'), ('actions', 'move back and forth in location'), ('locations', 'top of rock pile')], 'patternbox_2': [('agents', 'human'), ('actions', 'pick up object in location'), ('counters', 'all'), ('objects', 'small rock'), ('locations', 'top of rock pile')], 'patternbox_3': [('agents', 'robot'), ('actions', 'move to object'), ('counters', 'zero'), ('objects', 'small rock')]}\n",
      "\n",
      "4\n",
      "[('counters', 'all'), ('objects', 'small rock'), ('locations', 'top of rock pile')]\n",
      "{'patternbox_1': [('agents', 'human'), ('actions', 'move back and forth in location'), ('locations', 'top of rock pile')], 'patternbox_2': [('agents', 'human'), ('actions', 'pick up object in location'), ('counters', 'all'), ('objects', 'small rock'), ('locations', 'top of rock pile')], 'patternbox_3': [('agents', 'robot'), ('actions', 'move to object'), ('counters', 'zero'), ('objects', 'small rock')]}\n",
      "\n",
      "5\n",
      "[('locations', 'top of rock pile'), ('objects', 'large rock'), ('locations', 'top of rock pile'), ('objects', 'small rock')]\n",
      "{'patternbox_1': [('agents', 'robot'), ('actions', 'pick up object in location'), ('objects', 'small rock'), ('locations', 'top of rock pile'), ('locations', 'left side of field')], 'patternbox_2': [('agents', 'human'), ('actions', 'pick up object in location'), ('objects', 'small rock'), ('locations', 'top of rock pile'), ('locations', 'left side of field')], 'patternbox_3': [('agents', 'robot'), ('actions', 'pick up object in location'), ('objects', 'large rock')]}\n",
      "\n",
      "6\n",
      "[('locations', 'top of rock pile'), ('objects', 'large rock'), ('locations', 'top of rock pile'), ('objects', 'small rock')]\n",
      "{'patternbox_1': [('agents', 'robot'), ('actions', 'pick up object in location'), ('objects', 'small rock'), ('locations', 'top of rock pile')], 'patternbox_2': [('agents', 'human'), ('actions', 'pick up object in location'), ('objects', 'small rock'), ('locations', 'top of rock pile')], 'patternbox_3': [('agents', 'robot'), ('actions', 'pick up object in location'), ('objects', 'large rock'), ('locations', 'left side of rock pile')], 'patternbox_7': [('agents', 'robot'), ('actions', 'pick up object in location'), ('objects', 'large rock'), ('locations', 'right side of rock pile')]}\n",
      "\n",
      "7\n",
      "[('locations', 'top of rock pile'), ('objects', 'large rock'), ('locations', 'top of rock pile'), ('objects', 'small rock')]\n",
      "{'patternbox_1': [('agents', 'robot'), ('actions', 'pick up object in location'), ('objects', 'small rock'), ('locations', 'top of rock pile')], 'patternbox_2': [('agents', 'human'), ('actions', 'pick up object in location'), ('objects', 'small rock'), ('locations', 'top of rock pile')], 'patternbox_3': [('agents', 'robot'), ('actions', 'pick up object in location'), ('objects', 'large rock'), ('locations', 'left side of rock pile')], 'patternbox_7': [('agents', 'robot'), ('actions', 'pick up object in location'), ('objects', 'large rock'), ('locations', 'right side of rock pile')]}\n",
      "\n",
      "8\n",
      "[('locations', 'top of rock pile'), ('objects', 'large rock'), ('locations', 'left side of rock pile'), ('objects', 'large rock'), ('locations', 'right side of rock pile'), ('objects', 'large rock'), ('agents', 'victim')]\n",
      "{'patternbox_1': [('agents', 'robot'), ('actions', 'move to object'), ('objects', 'large rock')], 'patternbox_2': [('agents', 'human'), ('actions', 'move to object'), ('objects', 'large rock')], 'patternbox_3': [('agents', 'robot'), ('actions', 'break object in location'), ('objects', 'large rock'), ('locations', 'right side of rock pile')], 'patternbox_8': [('agents', 'human'), ('actions', 'pick up object in location'), ('objects', 'small rock'), ('locations', 'right side of rock pile')]}\n",
      "\n",
      "9\n",
      "[('locations', 'top of rock pile'), ('objects', 'large rock'), ('locations', 'left side of rock pile'), ('objects', 'large rock'), ('locations', 'right side of rock pile'), ('objects', 'large rock'), ('agents', 'victim')]\n",
      "{'patternbox_1': [('agents', 'robot'), ('actions', 'move to object'), ('objects', 'large rock')], 'patternbox_2': [('agents', 'human'), ('actions', 'move to object'), ('objects', 'large rock')], 'patternbox_3': [('agents', 'robot'), ('actions', 'break object in location'), ('objects', 'large rock'), ('locations', 'right side of rock pile')], 'patternbox_8': [('agents', 'human'), ('actions', 'pick up object in location'), ('objects', 'small rock'), ('locations', 'right side of rock pile')]}\n",
      "\n",
      "10\n",
      "[('locations', 'bottom of rock pile'), ('objects', 'large rock')]\n",
      "{'patternbox_1': [('agents', 'robot'), ('actions', 'break object in location'), ('objects', 'large rock'), ('locations', 'bottom of rock pile')], 'patternbox_2': [('agents', 'human'), ('actions', 'pick up object in location'), ('locations', 'bottom of rock pile'), ('objects', 'small rock')], 'patternbox_3': [('agents', 'robot'), ('actions', 'move to object'), ('objects', 'small rock')]}\n",
      "\n",
      "11\n",
      "[('locations', 'bottom of rock pile'), ('objects', 'large rock')]\n",
      "{'patternbox_1': [('agents', 'robot'), ('actions', 'break object in location'), ('objects', 'large rock'), ('locations', 'bottom of rock pile')], 'patternbox_2': [('agents', 'human'), ('actions', 'pick up object in location'), ('locations', 'bottom of rock pile'), ('objects', 'small rock')], 'patternbox_3': [('agents', 'robot'), ('actions', 'move to object'), ('objects', 'small rock')]}\n",
      "\n",
      "12\n",
      "[('locations', 'left side of rock pile'), ('objects', 'large rock'), ('locations', 'left side of field'), ('objects', 'small rock')]\n",
      "{'patternbox_1': [('locations', 'left side of rock pile'), ('actions', 'pick up object in location'), ('agents', 'robot'), ('objects', 'large rock')], 'patternbox_2': [('agents', 'human'), ('actions', 'pick up object in location'), ('objects', 'small rock'), ('locations', 'left side of rock pile')], 'patternbox_3': []}\n",
      "\n",
      "13\n",
      "[('locations', 'left side of rock pile'), ('objects', 'large rock'), ('locations', 'left side of field'), ('objects', 'small rock')]\n",
      "{'patternbox_1': [('locations', 'left side of rock pile'), ('actions', 'pick up object in location'), ('agents', 'robot'), ('objects', 'large rock')], 'patternbox_2': [('agents', 'human'), ('actions', 'pick up object in location'), ('objects', 'small rock'), ('locations', 'left side of rock pile')], 'patternbox_3': []}\n",
      "\n",
      "14\n",
      "[('locations', 'left side of rock pile'), ('objects', 'large rock'), ('locations', 'on top of actor'), ('agents', 'victim'), ('objects', 'small rock')]\n",
      "{'patternbox_1': [('agents', 'robot'), ('actions', 'break object in location'), ('objects', 'large rock')], 'patternbox_2': [('agents', 'human'), ('actions', 'pick up object in location'), ('objects', 'small rock'), ('locations', 'on top of actor'), ('agents', 'victim')], 'patternbox_3': []}\n",
      "\n",
      "15\n",
      "[('locations', 'left side of rock pile'), ('objects', 'large rock'), ('locations', 'on top of actor'), ('agents', 'victim'), ('objects', 'small rock')]\n",
      "{'patternbox_1': [('agents', 'robot'), ('actions', 'break object in location'), ('objects', 'large rock')], 'patternbox_2': [('agents', 'human'), ('actions', 'pick up object in location'), ('objects', 'small rock'), ('locations', 'on top of actor'), ('agents', 'victim')], 'patternbox_3': []}\n",
      "\n",
      "16\n",
      "[('locations', 'on top of object'), ('objects', 'small rock'), ('objects', 'large rock')]\n",
      "{'patternbox_1': [('agents', 'human'), ('actions', 'pick up object in location'), ('objects', 'small rock'), ('locations', 'bottom of rock pile')], 'patternbox_2': [('agents', 'robot'), ('actions', 'break object in location'), ('objects', 'large rock')], 'patternbox_3': []}\n",
      "\n",
      "17\n",
      "[('locations', 'on top of object'), ('objects', 'small rock'), ('objects', 'large rock')]\n",
      "{'patternbox_1': [('agents', 'human'), ('actions', 'pick up object in location'), ('objects', 'small rock'), ('locations', 'bottom of rock pile')], 'patternbox_2': [('agents', 'robot'), ('actions', 'break object in location'), ('objects', 'large rock')], 'patternbox_3': []}\n",
      "\n",
      "18\n",
      "[('objects', 'small rock'), ('locations', 'top of rock pile')]\n",
      "{'patternbox_1': [('agents', 'human'), ('actions', 'pick up object in location'), ('objects', 'small rock'), ('locations', 'top of rock pile')], 'patternbox_2': [('agents', 'human'), ('actions', 'drop object in location'), ('objects', 'small rock'), ('locations', 'on top of actor'), ('agents', 'victim')], 'patternbox_3': [('agents', 'robot'), ('actions', 'pick up object in location'), ('objects', 'large rock')], 'patternbox_9': [('agents', 'robot'), ('actions', 'move to actor'), ('agents', 'victim')]}\n",
      "\n",
      "19\n",
      "[('objects', 'small rock'), ('locations', 'top of rock pile'), ('locations', 'top of rock pile'), ('objects', 'large rock')]\n",
      "{'patternbox_1': [('agents', 'human'), ('actions', 'pick up object in location'), ('objects', 'small rock'), ('locations', 'top of rock pile')], 'patternbox_2': [('agents', 'human'), ('actions', 'drop object in location'), ('objects', 'small rock'), ('locations', 'on top of actor'), ('agents', 'victim')], 'patternbox_3': [('agents', 'robot'), ('actions', 'pick up object in location'), ('objects', 'large rock')], 'patternbox_9': [('agents', 'robot'), ('actions', 'move to actor'), ('agents', 'victim')]}\n",
      "\n",
      "20\n",
      "[('locations', 'top of rock pile'), ('objects', 'small rock'), ('locations', 'on top of object'), ('objects', 'small rock'), ('objects', 'large rock')]\n",
      "{'patternbox_1': [('agents', 'robot'), ('actions', 'break object in location'), ('objects', 'large rock')], 'patternbox_2': [('agents', 'human'), ('actions', 'pick up object in location'), ('objects', 'small rock')], 'patternbox_3': []}\n",
      "\n",
      "21\n",
      "[('locations', 'top of rock pile'), ('objects', 'large rock'), ('locations', 'on top of actor'), ('agents', 'victim'), ('objects', 'small rock')]\n",
      "{'patternbox_1': [('agents', 'robot'), ('actions', 'pick up object in location'), ('objects', 'large rock'), ('locations', 'top of rock pile')], 'patternbox_2': [('agents', 'robot'), ('actions', 'pick up object in location'), ('objects', 'small rock'), ('locations', 'top of rock pile')], 'patternbox_3': [('agents', 'human'), ('actions', 'pick up object in location'), ('objects', 'small rock'), ('locations', 'left side of field')], 'patternbox_10': [('agents', 'robot'), ('actions', 'pick up object in location'), ('objects', 'small rock'), ('locations', 'on top of actor'), ('agents', 'victim')], 'patternbox_11': [('agents', 'human'), ('actions', 'pick up object in location'), ('objects', 'small rock'), ('locations', 'on top of actor'), ('agents', 'victim')]}\n",
      "\n",
      "22\n",
      "[('locations', 'top of rock pile'), ('objects', 'large rock'), ('objects', 'small rock'), ('locations', 'bottom of rock pile'), ('objects', 'small rock'), ('locations', 'on top of actor'), ('objects', 'small rock')]\n",
      "{'patternbox_1': [('agents', 'robot'), ('actions', 'pick up object in location'), ('objects', 'large rock'), ('locations', 'top of rock pile')], 'patternbox_2': [('agents', 'robot'), ('actions', 'pick up object in location'), ('objects', 'small rock'), ('locations', 'top of rock pile')], 'patternbox_3': [('agents', 'human'), ('actions', 'pick up object in location'), ('objects', 'small rock'), ('locations', 'left side of field')], 'patternbox_10': [('agents', 'robot'), ('actions', 'pick up object in location'), ('objects', 'small rock'), ('locations', 'on top of actor'), ('agents', 'victim')], 'patternbox_11': [('agents', 'human'), ('actions', 'pick up object in location'), ('objects', 'small rock'), ('locations', 'on top of actor'), ('agents', 'victim')]}\n",
      "\n",
      "23\n",
      "[('locations', 'left side of rock pile'), ('objects', 'large rock'), ('locations', 'on top of actor'), ('agents', 'victim')]\n",
      "{'patternbox_1': [('agents', 'human'), ('actions', 'move to object'), ('objects', 'large rock')], 'patternbox_2': [('agents', 'robot'), ('actions', 'move to object'), ('objects', 'large rock')], 'patternbox_3': [('agents', 'robot'), ('actions', 'pick up object in location'), ('objects', 'large rock')]}\n",
      "\n",
      "24\n",
      "[('locations', 'left side of rock pile'), ('objects', 'large rock'), ('locations', 'on top of actor'), ('agents', 'victim')]\n",
      "{'patternbox_1': [('agents', 'human'), ('actions', 'move to object'), ('objects', 'large rock')], 'patternbox_2': [('agents', 'robot'), ('actions', 'move to object'), ('objects', 'large rock')], 'patternbox_3': [('agents', 'robot'), ('actions', 'pick up object in location'), ('objects', 'large rock')]}\n",
      "\n",
      "25\n",
      "[('locations', 'top of rock pile'), ('objects', 'large rock'), ('locations', 'on top of actor'), ('agents', 'victim'), ('objects', 'small rock'), ('locations', 'on top of actor'), ('agents', 'victim'), ('objects', 'large rock')]\n",
      "{'patternbox_1': [('agents', 'robot'), ('actions', 'pick up object in location'), ('objects', 'large rock'), ('locations', 'top of rock pile')], 'patternbox_2': [('agents', 'human'), ('actions', 'pick up object in location'), ('objects', 'small rock'), ('locations', 'on top of actor'), ('agents', 'victim')], 'patternbox_3': [('agents', 'robot'), ('actions', 'pick up object in location'), ('objects', 'large rock'), ('locations', 'left side of rock pile')]}\n",
      "\n",
      "26\n",
      "[('locations', 'left side of rock pile'), ('objects', 'large rock'), ('locations', 'left side of field'), ('objects', 'small rock')]\n",
      "{'patternbox_1': [('locations', 'left side of rock pile'), ('actions', 'pick up object in location'), ('agents', 'robot'), ('objects', 'large rock')], 'patternbox_2': [('agents', 'human'), ('actions', 'pick up object in location'), ('objects', 'small rock'), ('locations', 'left side of rock pile')], 'patternbox_3': []}\n",
      "\n",
      "27\n",
      "[('objects', 'large rock'), ('locations', 'on top of actor'), ('agents', 'victim')]\n",
      "{'patternbox_1': [('agents', 'human'), ('actions', 'move to object'), ('objects', 'large rock')], 'patternbox_2': [('agents', 'robot'), ('actions', 'move to object'), ('objects', 'large rock')], 'patternbox_3': [('agents', 'robot'), ('actions', 'pick up object in location'), ('objects', 'large rock')]}\n",
      "\n",
      "28\n",
      "[('objects', 'large rock'), ('locations', 'on top of actor'), ('agents', 'victim')]\n",
      "{'patternbox_1': [('agents', 'human'), ('actions', 'move to object'), ('objects', 'large rock')], 'patternbox_2': [('agents', 'robot'), ('actions', 'move to object'), ('objects', 'large rock')], 'patternbox_3': [('agents', 'robot'), ('actions', 'pick up object in location'), ('objects', 'large rock')]}\n",
      "\n"
     ]
    }
   ],
   "source": [
    "for idx, (s, a) in enumerate(situation_action_pairs):\n",
    "    print(idx)\n",
    "    print(s)\n",
    "    print(a)\n",
    "    print()"
   ]
  },
  {
   "cell_type": "code",
   "execution_count": 13,
   "metadata": {},
   "outputs": [
    {
     "data": {
      "text/plain": [
       "[('locations', 'top of rock pile'), ('objects', 'large rock')]"
      ]
     },
     "execution_count": 13,
     "metadata": {},
     "output_type": "execute_result"
    }
   ],
   "source": [
    "situations[0]"
   ]
  },
  {
   "cell_type": "code",
   "execution_count": 14,
   "metadata": {},
   "outputs": [
    {
     "data": {
      "text/plain": [
       "[[('agents', 'human'),\n",
       "  ('actions', 'pick up object in location'),\n",
       "  ('objects', 'large rock'),\n",
       "  ('locations', 'top of rock pile')],\n",
       " [('agents', 'robot'),\n",
       "  ('actions', 'break object in location'),\n",
       "  ('objects', 'large rock'),\n",
       "  ('locations', 'top of rock pile')],\n",
       " [('agents', 'robot'),\n",
       "  ('actions', 'break object in location'),\n",
       "  ('objects', 'large rock'),\n",
       "  ('locations', 'top of rock pile')]]"
      ]
     },
     "execution_count": 14,
     "metadata": {},
     "output_type": "execute_result"
    }
   ],
   "source": [
    "actions[0]"
   ]
  },
  {
   "cell_type": "code",
   "execution_count": 6,
   "metadata": {},
   "outputs": [
    {
     "data": {
      "text/plain": [
       "(969, 219)"
      ]
     },
     "execution_count": 6,
     "metadata": {},
     "output_type": "execute_result"
    }
   ],
   "source": [
    "len(situations), len(actions)"
   ]
  },
  {
   "cell_type": "code",
   "execution_count": 32,
   "metadata": {},
   "outputs": [
    {
     "data": {
      "text/plain": [
       "[('agents', 'human'),\n",
       " ('actions', 'pick up object in location'),\n",
       " ('objects', 'large rock'),\n",
       " ('locations', 'top of rock pile')]"
      ]
     },
     "execution_count": 32,
     "metadata": {},
     "output_type": "execute_result"
    }
   ],
   "source": [
    "actions[0]"
   ]
  },
  {
   "cell_type": "code",
   "execution_count": null,
   "metadata": {},
   "outputs": [],
   "source": [
    "print(f\"number of total and unique all_string_values: {len(all_string_values)}, {len(set(all_string_values))}\")\n",
    "\n",
    "foo = [str(sa) for sa in situation_action_pairs]\n",
    "print(f\"number of total and unique situation_action_pairs: {len(foo)}, {len(set(foo))}\")\n",
    "\n",
    "foo = [str(s) for s, a in situation_action_pairs]\n",
    "print(f\"number of total and unique situations: {len(foo)}, {len(set(foo))}\")\n",
    "\n",
    "foo = [str(a) for s, a in situation_action_pairs]\n",
    "print(f\"number of total and unique actions: {len(foo)}, {len(set(foo))}\")"
   ]
  }
 ],
 "metadata": {
  "kernelspec": {
   "display_name": "foo",
   "language": "python",
   "name": "python3"
  },
  "language_info": {
   "codemirror_mode": {
    "name": "ipython",
    "version": 3
   },
   "file_extension": ".py",
   "mimetype": "text/x-python",
   "name": "python",
   "nbconvert_exporter": "python",
   "pygments_lexer": "ipython3",
   "version": "3.8.18"
  }
 },
 "nbformat": 4,
 "nbformat_minor": 2
}
