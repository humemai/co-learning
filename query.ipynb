{
 "cells": [
  {
   "cell_type": "code",
   "execution_count": 1,
   "metadata": {},
   "outputs": [],
   "source": [
    "%load_ext typedb_jupyter"
   ]
  },
  {
   "cell_type": "code",
   "execution_count": 2,
   "metadata": {},
   "outputs": [
    {
     "name": "stdout",
     "output_type": "stream",
     "text": [
      "Opened connection: CP_ontology@localhost:1729\n"
     ]
    }
   ],
   "source": [
    "%typedb -a localhost:1729 -d CP_ontology"
   ]
  },
  {
   "cell_type": "code",
   "execution_count": 3,
   "metadata": {},
   "outputs": [
    {
     "name": "stdout",
     "output_type": "stream",
     "text": [
      "Open connections:\n",
      " * CP_ontology@localhost:1729\n"
     ]
    }
   ],
   "source": [
    "%typedb -l"
   ]
  },
  {
   "cell_type": "code",
   "execution_count": 6,
   "metadata": {},
   "outputs": [
    {
     "name": "stdout",
     "output_type": "stream",
     "text": [
      "Selected connection: CP_ontology@localhost:1729\n"
     ]
    }
   ],
   "source": [
    "%typedb -n CP_ontology@localhost:1729"
   ]
  },
  {
   "cell_type": "code",
   "execution_count": 9,
   "metadata": {},
   "outputs": [
    {
     "name": "stdout",
     "output_type": "stream",
     "text": [
      "Connection: CP_ontology@localhost:1729\n",
      "Session: data\n",
      "Transaction: read\n",
      "Query: match\n",
      "Inference: off\n"
     ]
    }
   ],
   "source": [
    "foo = %typeql match $x sub thing;"
   ]
  },
  {
   "cell_type": "code",
   "execution_count": 10,
   "metadata": {},
   "outputs": [
    {
     "data": {
      "text/plain": [
       "[{'x': {'label': 'thing'}},\n",
       " {'x': {'label': 'entity'}},\n",
       " {'x': {'label': 'condition'}},\n",
       " {'x': {'label': 'task'}},\n",
       " {'x': {'label': 'location'}},\n",
       " {'x': {'label': 'collaboration_pattern'}},\n",
       " {'x': {'label': 'object'}},\n",
       " {'x': {'label': 'resource'}},\n",
       " {'x': {'label': 'side_effect'}},\n",
       " {'x': {'label': 'actor'}},\n",
       " {'x': {'label': 'goal'}},\n",
       " {'x': {'label': 'past_occurence'}},\n",
       " {'x': {'label': 'context'}},\n",
       " {'x': {'label': 'attribute'}},\n",
       " {'x': {'label': 'range'}},\n",
       " {'x': {'label': 'size'}},\n",
       " {'x': {'label': 'action_type'}},\n",
       " {'x': {'label': 'actor_id'}},\n",
       " {'x': {'label': 'x_coordinate'}},\n",
       " {'x': {'label': 'success'}},\n",
       " {'x': {'label': 'obj_id'}},\n",
       " {'x': {'label': 'order_value'}},\n",
       " {'x': {'label': 'task_id'}},\n",
       " {'x': {'label': 'y_coordinate'}},\n",
       " {'x': {'label': 'condition_id'}},\n",
       " {'x': {'label': 'task_name'}},\n",
       " {'x': {'label': 'name'}},\n",
       " {'x': {'label': 'context_id'}},\n",
       " {'x': {'label': 'obj_type'}},\n",
       " {'x': {'label': 'condition_type'}},\n",
       " {'x': {'label': 'color'}},\n",
       " {'x': {'label': 'timestamp'}},\n",
       " {'x': {'label': 'actor_type'}},\n",
       " {'x': {'label': 'html_content'}},\n",
       " {'x': {'label': 'relation'}},\n",
       " {'x': {'label': 'preceeds'}},\n",
       " {'x': {'label': 'ends_when'}},\n",
       " {'x': {'label': 'determine'}},\n",
       " {'x': {'label': 'uses'}},\n",
       " {'x': {'label': 'affords'}},\n",
       " {'x': {'label': 'limited_by'}},\n",
       " {'x': {'label': 'contains'}},\n",
       " {'x': {'label': 'has_history'}},\n",
       " {'x': {'label': 'starts_when'}},\n",
       " {'x': {'label': 'is_part_of'}},\n",
       " {'x': {'label': 'performed_by'}},\n",
       " {'x': {'label': 'positioned_at'}},\n",
       " {'x': {'label': 'takes_place_at'}},\n",
       " {'x': {'label': 'is_present_in'}}]"
      ]
     },
     "execution_count": 10,
     "metadata": {},
     "output_type": "execute_result"
    }
   ],
   "source": [
    "foo\n"
   ]
  },
  {
   "cell_type": "code",
   "execution_count": 13,
   "metadata": {},
   "outputs": [
    {
     "name": "stdout",
     "output_type": "stream",
     "text": [
      "Connection: CP_ontology@localhost:1729\n",
      "Session: data\n",
      "Transaction: read\n",
      "Query: match\n",
      "Inference: off\n"
     ]
    },
    {
     "data": {
      "text/plain": [
       "[{'cp': {'type': 'collaboration_pattern'},\n",
       "  'id_start': {'type': 'condition_id',\n",
       "   'value_type': 'string',\n",
       "   'value': 'condition_start_0_1691588563.668808'},\n",
       "  'context_id_start': {'type': 'context_id',\n",
       "   'value_type': 'string',\n",
       "   'value': 'context_start_0_1691588563.668808'},\n",
       "  'contains': {'type': 'contains'},\n",
       "  'starts': {'type': 'starts_when'},\n",
       "  'object': {'type': 'location'},\n",
       "  'present_in_start': {'type': 'is_present_in'},\n",
       "  'condition_start': {'type': 'condition'},\n",
       "  'context_start': {'type': 'context'}},\n",
       " {'starts': {'type': 'starts_when'},\n",
       "  'context_start': {'type': 'context'},\n",
       "  'present_in_start': {'type': 'is_present_in'},\n",
       "  'contains': {'type': 'contains'},\n",
       "  'cp': {'type': 'collaboration_pattern'},\n",
       "  'object': {'type': 'resource'},\n",
       "  'context_id_start': {'type': 'context_id',\n",
       "   'value_type': 'string',\n",
       "   'value': 'context_start_0_1691588563.668808'},\n",
       "  'condition_start': {'type': 'condition'},\n",
       "  'id_start': {'type': 'condition_id',\n",
       "   'value_type': 'string',\n",
       "   'value': 'condition_start_0_1691588563.668808'}}]"
      ]
     },
     "execution_count": 13,
     "metadata": {},
     "output_type": "execute_result"
    }
   ],
   "source": [
    "%%typeql\n",
    "match $cp isa collaboration_pattern, has name 'test'; \n",
    "                    $starts (condition: $condition_start, cp: $cp) isa starts_when;\n",
    "                                            $condition_start isa condition, has condition_id $id_start;\n",
    "                                            $present_in_start (condition: $condition_start, situation: $context_start) isa is_present_in;\n",
    "                                            $context_start isa context, has context_id $context_id_start;\n",
    "                                            $contains (whole: $context_start, part: $object) isa contains;"
   ]
  },
  {
   "cell_type": "code",
   "execution_count": 15,
   "metadata": {},
   "outputs": [],
   "source": [
    "foo = _13\n"
   ]
  },
  {
   "cell_type": "code",
   "execution_count": 16,
   "metadata": {},
   "outputs": [
    {
     "data": {
      "text/plain": [
       "[{'cp': {'type': 'collaboration_pattern'},\n",
       "  'id_start': {'type': 'condition_id',\n",
       "   'value_type': 'string',\n",
       "   'value': 'condition_start_0_1691588563.668808'},\n",
       "  'context_id_start': {'type': 'context_id',\n",
       "   'value_type': 'string',\n",
       "   'value': 'context_start_0_1691588563.668808'},\n",
       "  'contains': {'type': 'contains'},\n",
       "  'starts': {'type': 'starts_when'},\n",
       "  'object': {'type': 'location'},\n",
       "  'present_in_start': {'type': 'is_present_in'},\n",
       "  'condition_start': {'type': 'condition'},\n",
       "  'context_start': {'type': 'context'}},\n",
       " {'starts': {'type': 'starts_when'},\n",
       "  'context_start': {'type': 'context'},\n",
       "  'present_in_start': {'type': 'is_present_in'},\n",
       "  'contains': {'type': 'contains'},\n",
       "  'cp': {'type': 'collaboration_pattern'},\n",
       "  'object': {'type': 'resource'},\n",
       "  'context_id_start': {'type': 'context_id',\n",
       "   'value_type': 'string',\n",
       "   'value': 'context_start_0_1691588563.668808'},\n",
       "  'condition_start': {'type': 'condition'},\n",
       "  'id_start': {'type': 'condition_id',\n",
       "   'value_type': 'string',\n",
       "   'value': 'condition_start_0_1691588563.668808'}}]"
      ]
     },
     "execution_count": 16,
     "metadata": {},
     "output_type": "execute_result"
    }
   ],
   "source": [
    "foo\n"
   ]
  },
  {
   "cell_type": "code",
   "execution_count": 21,
   "metadata": {},
   "outputs": [
    {
     "name": "stdout",
     "output_type": "stream",
     "text": [
      "Connection: CP_ontology@localhost:1729\n",
      "Session: data\n",
      "Transaction: read\n",
      "Query: match\n",
      "Inference: off\n"
     ]
    },
    {
     "data": {
      "text/plain": [
       "[{'context_id_start': {'type': 'context_id',\n",
       "   'value_type': 'string',\n",
       "   'value': 'context_start_1_1696409563.255097'},\n",
       "  'present_in_start': {'type': 'is_present_in'},\n",
       "  'condition_start': {'type': 'condition'},\n",
       "  'id_start': {'type': 'condition_id',\n",
       "   'value_type': 'string',\n",
       "   'value': 'condition_start_1_1696409563.255097'},\n",
       "  'context_start': {'type': 'context'},\n",
       "  'starts': {'type': 'starts_when'},\n",
       "  'cp': {'type': 'collaboration_pattern'},\n",
       "  'contains': {'type': 'contains'},\n",
       "  'object': {'type': 'location'}},\n",
       " {'object': {'type': 'resource'},\n",
       "  'context_start': {'type': 'context'},\n",
       "  'cp': {'type': 'collaboration_pattern'},\n",
       "  'condition_start': {'type': 'condition'},\n",
       "  'contains': {'type': 'contains'},\n",
       "  'starts': {'type': 'starts_when'},\n",
       "  'present_in_start': {'type': 'is_present_in'},\n",
       "  'id_start': {'type': 'condition_id',\n",
       "   'value_type': 'string',\n",
       "   'value': 'condition_start_1_1696409563.255097'},\n",
       "  'context_id_start': {'type': 'context_id',\n",
       "   'value_type': 'string',\n",
       "   'value': 'context_start_1_1696409563.255097'}},\n",
       " {'cp': {'type': 'collaboration_pattern'},\n",
       "  'context_start': {'type': 'context'},\n",
       "  'contains': {'type': 'contains'},\n",
       "  'condition_start': {'type': 'condition'},\n",
       "  'object': {'type': 'location'},\n",
       "  'context_id_start': {'type': 'context_id',\n",
       "   'value_type': 'string',\n",
       "   'value': 'context_start_0_1696409563.255077'},\n",
       "  'starts': {'type': 'starts_when'},\n",
       "  'id_start': {'type': 'condition_id',\n",
       "   'value_type': 'string',\n",
       "   'value': 'condition_start_0_1696409563.255077'},\n",
       "  'present_in_start': {'type': 'is_present_in'}},\n",
       " {'present_in_start': {'type': 'is_present_in'},\n",
       "  'starts': {'type': 'starts_when'},\n",
       "  'condition_start': {'type': 'condition'},\n",
       "  'object': {'type': 'resource'},\n",
       "  'context_start': {'type': 'context'},\n",
       "  'id_start': {'type': 'condition_id',\n",
       "   'value_type': 'string',\n",
       "   'value': 'condition_start_0_1696409563.255077'},\n",
       "  'context_id_start': {'type': 'context_id',\n",
       "   'value_type': 'string',\n",
       "   'value': 'context_start_0_1696409563.255077'},\n",
       "  'contains': {'type': 'contains'},\n",
       "  'cp': {'type': 'collaboration_pattern'}}]"
      ]
     },
     "execution_count": 21,
     "metadata": {},
     "output_type": "execute_result"
    }
   ],
   "source": [
    "%%typeql\n",
    "match $cp isa collaboration_pattern, has name 'test2'; \n",
    "                    $starts (condition: $condition_start, cp: $cp) isa starts_when;\n",
    "                                            $condition_start isa condition, has condition_id $id_start;\n",
    "                                            $present_in_start (condition: $condition_start, situation: $context_start) isa is_present_in;\n",
    "                                            $context_start isa context, has context_id $context_id_start;\n",
    "                                            $contains (whole: $context_start, part: $object) isa contains;"
   ]
  },
  {
   "cell_type": "code",
   "execution_count": 22,
   "metadata": {},
   "outputs": [],
   "source": [
    "foo = _21\n"
   ]
  },
  {
   "cell_type": "code",
   "execution_count": 23,
   "metadata": {},
   "outputs": [
    {
     "data": {
      "text/plain": [
       "[{'context_id_start': {'type': 'context_id',\n",
       "   'value_type': 'string',\n",
       "   'value': 'context_start_1_1696409563.255097'},\n",
       "  'present_in_start': {'type': 'is_present_in'},\n",
       "  'condition_start': {'type': 'condition'},\n",
       "  'id_start': {'type': 'condition_id',\n",
       "   'value_type': 'string',\n",
       "   'value': 'condition_start_1_1696409563.255097'},\n",
       "  'context_start': {'type': 'context'},\n",
       "  'starts': {'type': 'starts_when'},\n",
       "  'cp': {'type': 'collaboration_pattern'},\n",
       "  'contains': {'type': 'contains'},\n",
       "  'object': {'type': 'location'}},\n",
       " {'object': {'type': 'resource'},\n",
       "  'context_start': {'type': 'context'},\n",
       "  'cp': {'type': 'collaboration_pattern'},\n",
       "  'condition_start': {'type': 'condition'},\n",
       "  'contains': {'type': 'contains'},\n",
       "  'starts': {'type': 'starts_when'},\n",
       "  'present_in_start': {'type': 'is_present_in'},\n",
       "  'id_start': {'type': 'condition_id',\n",
       "   'value_type': 'string',\n",
       "   'value': 'condition_start_1_1696409563.255097'},\n",
       "  'context_id_start': {'type': 'context_id',\n",
       "   'value_type': 'string',\n",
       "   'value': 'context_start_1_1696409563.255097'}},\n",
       " {'cp': {'type': 'collaboration_pattern'},\n",
       "  'context_start': {'type': 'context'},\n",
       "  'contains': {'type': 'contains'},\n",
       "  'condition_start': {'type': 'condition'},\n",
       "  'object': {'type': 'location'},\n",
       "  'context_id_start': {'type': 'context_id',\n",
       "   'value_type': 'string',\n",
       "   'value': 'context_start_0_1696409563.255077'},\n",
       "  'starts': {'type': 'starts_when'},\n",
       "  'id_start': {'type': 'condition_id',\n",
       "   'value_type': 'string',\n",
       "   'value': 'condition_start_0_1696409563.255077'},\n",
       "  'present_in_start': {'type': 'is_present_in'}},\n",
       " {'present_in_start': {'type': 'is_present_in'},\n",
       "  'starts': {'type': 'starts_when'},\n",
       "  'condition_start': {'type': 'condition'},\n",
       "  'object': {'type': 'resource'},\n",
       "  'context_start': {'type': 'context'},\n",
       "  'id_start': {'type': 'condition_id',\n",
       "   'value_type': 'string',\n",
       "   'value': 'condition_start_0_1696409563.255077'},\n",
       "  'context_id_start': {'type': 'context_id',\n",
       "   'value_type': 'string',\n",
       "   'value': 'context_start_0_1696409563.255077'},\n",
       "  'contains': {'type': 'contains'},\n",
       "  'cp': {'type': 'collaboration_pattern'}}]"
      ]
     },
     "execution_count": 23,
     "metadata": {},
     "output_type": "execute_result"
    }
   ],
   "source": [
    "foo\n"
   ]
  }
 ],
 "metadata": {
  "kernelspec": {
   "display_name": "co-learning",
   "language": "python",
   "name": "python3"
  },
  "language_info": {
   "codemirror_mode": {
    "name": "ipython",
    "version": 3
   },
   "file_extension": ".py",
   "mimetype": "text/x-python",
   "name": "python",
   "nbconvert_exporter": "python",
   "pygments_lexer": "ipython3",
   "version": "3.9.18"
  },
  "orig_nbformat": 4
 },
 "nbformat": 4,
 "nbformat_minor": 2
}
