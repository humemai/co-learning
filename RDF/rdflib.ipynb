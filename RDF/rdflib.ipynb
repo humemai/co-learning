{
 "cells": [
  {
   "cell_type": "code",
   "execution_count": 1,
   "metadata": {},
   "outputs": [
    {
     "name": "stdout",
     "output_type": "stream",
     "text": [
      "Actor: http://example.org/co-learning#LargeRock, Action: http://www.w3.org/1999/02/22-rdf-syntax-ns#type, Target: http://example.org/co-learning#Object\n",
      "Actor: http://example.org/co-learning#LargeRock, Action: http://example.org/co-learning#topOf, Target: http://example.org/co-learning#RockPile\n",
      "Actor: http://example.org/co-learning#LargeRock, Action: http://example.org/co-learning#inSituation, Target: http://example.org/co-learning#Situation01\n",
      "Actor: http://example.org/co-learning#LargeRock, Action: http://example.org/co-learning#bottomOf, Target: http://example.org/co-learning#RockPile\n",
      "Actor: http://example.org/co-learning#LargeRock, Action: http://example.org/co-learning#rightSideOf, Target: http://example.org/co-learning#RockPile\n",
      "Actor: http://example.org/co-learning#Robot, Action: http://www.w3.org/1999/02/22-rdf-syntax-ns#type, Target: http://example.org/co-learning#Actor\n",
      "Actor: http://example.org/co-learning#Robot, Action: http://example.org/co-learning#moveTo, Target: http://example.org/co-learning#LargeRock\n",
      "Actor: http://example.org/co-learning#Robot, Action: http://example.org/co-learning#moveTo, Target: http://example.org/co-learning#SmallRock\n",
      "Actor: http://example.org/co-learning#Robot, Action: http://example.org/co-learning#inSituation, Target: http://example.org/co-learning#Situation01\n",
      "Actor: http://example.org/co-learning#Robot, Action: http://example.org/co-learning#inSituation, Target: http://example.org/co-learning#Situation02\n",
      "Actor: http://example.org/co-learning#Robot, Action: http://example.org/co-learning#break_, Target: http://example.org/co-learning#LargeRock\n",
      "Actor: http://example.org/co-learning#Robot, Action: http://example.org/co-learning#pickUp, Target: http://example.org/co-learning#SmallRock\n",
      "Actor: http://example.org/co-learning#p01, Action: http://www.w3.org/1999/02/22-rdf-syntax-ns#type, Target: http://example.org/co-learning#Human\n",
      "Actor: http://example.org/co-learning#p01, Action: http://example.org/co-learning#moveTo, Target: http://example.org/co-learning#LargeRock\n",
      "Actor: http://example.org/co-learning#p01, Action: http://example.org/co-learning#inSituation, Target: http://example.org/co-learning#Situation01\n",
      "Actor: http://example.org/co-learning#p01, Action: http://example.org/co-learning#inSituation, Target: http://example.org/co-learning#Situation02\n",
      "Actor: http://example.org/co-learning#p01, Action: http://example.org/co-learning#pickUp, Target: http://example.org/co-learning#SmallRock\n",
      "Actor: http://example.org/co-learning#p01, Action: http://example.org/co-learning#hasState, Target: http://example.org/co-learning#MoveBackAndForth\n",
      "Actor: http://example.org/co-learning#SmallRock, Action: http://www.w3.org/1999/02/22-rdf-syntax-ns#type, Target: http://example.org/co-learning#Object\n",
      "Actor: http://example.org/co-learning#SmallRock, Action: http://example.org/co-learning#topOf, Target: http://example.org/co-learning#RockPile\n",
      "Actor: http://example.org/co-learning#SmallRock, Action: http://example.org/co-learning#inSituation, Target: http://example.org/co-learning#Situation01\n",
      "Actor: http://example.org/co-learning#SmallRock, Action: http://example.org/co-learning#inSituation, Target: http://example.org/co-learning#Situation02\n"
     ]
    }
   ],
   "source": [
    "from rdflib import Graph, Namespace\n",
    "\n",
    "# Load the RDF graph from a Turtle file\n",
    "g = Graph()\n",
    "g.parse(\"coLearningOntology.ttl\", format=\"turtle\")\n",
    "g.parse(\"p01.ttl\", format=\"turtle\")\n",
    "\n",
    "\n",
    "# Adjusted SPARQL query\n",
    "query = \"\"\"\n",
    "PREFIX colearn: <http://example.org/co-learning#>\n",
    "\n",
    "SELECT ?actor ?action ?target WHERE {\n",
    "  ?actor ?action ?target .\n",
    "  ?actor colearn:inSituation colearn:Situation01 .\n",
    "}\n",
    "\"\"\"\n",
    "\n",
    "# Execute the adjusted query\n",
    "for row in g.query(query):\n",
    "    print(f\"Actor: {row.actor}, Action: {row.action}, Target: {row.target}\")"
   ]
  }
 ],
 "metadata": {
  "kernelspec": {
   "display_name": "co-learning",
   "language": "python",
   "name": "python3"
  },
  "language_info": {
   "codemirror_mode": {
    "name": "ipython",
    "version": 3
   },
   "file_extension": ".py",
   "mimetype": "text/x-python",
   "name": "python",
   "nbconvert_exporter": "python",
   "pygments_lexer": "ipython3",
   "version": "3.8.18"
  }
 },
 "nbformat": 4,
 "nbformat_minor": 2
}
