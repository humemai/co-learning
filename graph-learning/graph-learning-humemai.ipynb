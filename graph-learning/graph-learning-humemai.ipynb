{
 "cells": [
  {
   "cell_type": "markdown",
   "metadata": {},
   "source": [
    "# This graph learning treats every graph (CP) to be an episodic memory of the agent."
   ]
  },
  {
   "cell_type": "markdown",
   "metadata": {},
   "source": [
    "## Turn the raw data into RDF-data\n",
    "\n",
    "I also did ontology engineering, which is saved at [`ontology-humemai.ttl`](./ontology-humemai.ttl)\n"
   ]
  },
  {
   "cell_type": "code",
   "execution_count": 1,
   "metadata": {},
   "outputs": [],
   "source": [
    "import json\n",
    "\n",
    "with open('./raw-data.json') as f:\n",
    "    data = json.load(f)"
   ]
  },
  {
   "cell_type": "code",
   "execution_count": 2,
   "metadata": {},
   "outputs": [],
   "source": [
    "import logging\n",
    "from rdflib import URIRef, Namespace\n",
    "from humemai import MemorySystem\n",
    "from rdflib.namespace import RDF\n",
    "\n",
    "from rdflib import RDF, XSD, BNode, Graph, Literal, Namespace, URIRef\n",
    "\n",
    "# Turn off debug logging\n",
    "logging.getLogger(\"humemai\").setLevel(logging.WARNING)\n",
    "\n",
    "humemai = Namespace(\"https://humem.ai/ontology#\")\n",
    "co_learning = Namespace(\"https://co_learning#\")\n",
    "\n",
    "memory_system = MemorySystem(verbose_repr=False)\n",
    "memory_system.memory.graph.bind(\"co_learning\", co_learning)\n"
   ]
  },
  {
   "cell_type": "code",
   "execution_count": 3,
   "metadata": {},
   "outputs": [
    {
     "data": {
      "text/plain": [
       "{'cp_num': 0,\n",
       " 'participant': 4069,\n",
       " 'cp_name': 'Label',\n",
       " 'ticks_lasted': 117,\n",
       " 'round_num': 3,\n",
       " 'timestamp': '2024-05-03T13:41:23',\n",
       " 'unix_timestamp': 1714736483,\n",
       " 'remaining_time': 2336,\n",
       " 'remaining_rocks': 0,\n",
       " 'victim_harm': 400,\n",
       " 'situation': [[], []],\n",
       " 'actionHuman': [[{'type': 'actor', 'content': 'Human'},\n",
       "   {'type': 'action', 'content': 'Stand still in <location>'},\n",
       "   {'type': 'location', 'content': '<Left> side of field'}],\n",
       "  [],\n",
       "  []],\n",
       " 'actionRobot': [[{'type': 'action',\n",
       "    'content': 'Break <object> in <location>'},\n",
       "   {'type': 'object', 'content': 'Brown rock'}],\n",
       "  [],\n",
       "  []]}"
      ]
     },
     "execution_count": 3,
     "metadata": {},
     "output_type": "execute_result"
    }
   ],
   "source": [
    "data_point = data[0]\n",
    "data_point"
   ]
  },
  {
   "cell_type": "code",
   "execution_count": 4,
   "metadata": {},
   "outputs": [],
   "source": [
    "event_properties = {\n",
    "    co_learning.hasParticipantNumber: URIRef(\n",
    "        co_learning + f\"P{data_point['participant']}\"\n",
    "    ),\n",
    "    co_learning.hasCPLabel: URIRef(co_learning + f\"P{data_point['cp_name']}\"),\n",
    "    co_learning.hasTicksLasted: URIRef(co_learning + f\"P{data_point['ticks_lasted']}\"),\n",
    "    co_learning.hasRoundNumber: URIRef(co_learning + f\"P{data_point['round_num']}\"),\n",
    "    co_learning.hasTimeStammp: URIRef(co_learning + f\"P{data_point['timestamp']}\"),\n",
    "    co_learning.hasUnixTimeStamp: URIRef(\n",
    "        co_learning + f\"P{data_point['unix_timestamp']}\"\n",
    "    ),\n",
    "    co_learning.hasRemainingTime: URIRef(\n",
    "        co_learning + f\"P{data_point['remaining_time']}\"\n",
    "    ),\n",
    "    co_learning.hasRemainingRocks: URIRef(\n",
    "        co_learning + f\"P{data_point['remaining_rocks']}\"\n",
    "    ),\n",
    "    co_learning.hasVictimHarm: URIRef(co_learning + f\"P{data_point['victim_harm']}\"),\n",
    "}\n",
    "\n",
    "memory_system.memory.add_episodic_memory(\n",
    "    triples=[(co_learning.USAR_bot, RDF.type, co_learning.Robot)],\n",
    "    qualifiers={\n",
    "        humemai.eventTime: Literal(data_point[\"timestamp\"], datatype=XSD.dateTime),\n",
    "        humemai.location: Literal(\"USAR\"),\n",
    "        humemai.event: co_learning.CP000,\n",
    "    },\n",
    "    event_properties=event_properties,\n",
    ")\n",
    "\n",
    "memory_system.memory.add_episodic_memory(\n",
    "    triples=[\n",
    "        (\n",
    "            URIRef(co_learning + f\"P{data_point['participant']}\"),\n",
    "            RDF.type,\n",
    "            co_learning.Participant,\n",
    "        )\n",
    "    ],\n",
    "    qualifiers={\n",
    "        humemai.eventTime: Literal(data_point[\"timestamp\"], datatype=XSD.dateTime),\n",
    "        humemai.location: Literal(\"USAR\"),\n",
    "        humemai.event: co_learning.CP000,\n",
    "    },\n",
    "    event_properties=event_properties,\n",
    ")"
   ]
  },
  {
   "cell_type": "code",
   "execution_count": 5,
   "metadata": {},
   "outputs": [
    {
     "name": "stdout",
     "output_type": "stream",
     "text": [
      "[USAR_bot, type, Robot, {'memoryID': '0', 'recalled': '0', 'eventTime': '2024-05-03T13:41:23', 'location': 'USAR', 'event': 'CP000'}]\n",
      "[P4069, type, Participant, {'memoryID': '1', 'recalled': '0', 'eventTime': '2024-05-03T13:41:23', 'location': 'USAR', 'event': 'CP000'}]\n"
     ]
    }
   ],
   "source": [
    "memory_system.memory.print_memories()"
   ]
  },
  {
   "cell_type": "code",
   "execution_count": 6,
   "metadata": {},
   "outputs": [
    {
     "name": "stdout",
     "output_type": "stream",
     "text": [
      "Event-related triples:\n",
      "(CP000, hasParticipantNumber, P4069)\n",
      "(CP000, hasCPLabel, PLabel)\n",
      "(CP000, hasTicksLasted, P117)\n",
      "(CP000, hasRoundNumber, P3)\n",
      "(CP000, hasTimeStammp, P2024-05-03T13:41:23)\n",
      "(CP000, hasUnixTimeStamp, P1714736483)\n",
      "(CP000, hasRemainingTime, P2336)\n",
      "(CP000, hasRemainingRocks, P0)\n",
      "(CP000, hasVictimHarm, P400)\n"
     ]
    }
   ],
   "source": [
    "memory_system.memory.print_events()"
   ]
  }
 ],
 "metadata": {
  "kernelspec": {
   "display_name": "co-learning",
   "language": "python",
   "name": "python3"
  },
  "language_info": {
   "codemirror_mode": {
    "name": "ipython",
    "version": 3
   },
   "file_extension": ".py",
   "mimetype": "text/x-python",
   "name": "python",
   "nbconvert_exporter": "python",
   "pygments_lexer": "ipython3",
   "version": "3.8.20"
  }
 },
 "nbformat": 4,
 "nbformat_minor": 2
}
