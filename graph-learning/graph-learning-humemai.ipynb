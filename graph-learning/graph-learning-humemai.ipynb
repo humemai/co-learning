{
 "cells": [
  {
   "cell_type": "markdown",
   "metadata": {},
   "source": [
    "# This graph learning treats every graph (CP) to be an episodic memory of the agent."
   ]
  },
  {
   "cell_type": "markdown",
   "metadata": {},
   "source": [
    "## Turn the raw data into RDF-data\n",
    "\n",
    "I also did ontology engineering, which is saved at [`ontology-humemai.ttl`](./ontology-humemai.ttl)\n"
   ]
  },
  {
   "cell_type": "code",
   "execution_count": 1,
   "metadata": {},
   "outputs": [],
   "source": [
    "import json\n",
    "\n",
    "with open('./raw-data.json') as f:\n",
    "    data = json.load(f)"
   ]
  },
  {
   "cell_type": "code",
   "execution_count": 2,
   "metadata": {},
   "outputs": [
    {
     "name": "stdout",
     "output_type": "stream",
     "text": [
      "{'actionHuman': [[{'content': 'Stand still in <location>', 'type': 'action'},\n",
      "                  {'content': '<Right> side of field', 'type': 'location'}],\n",
      "                 [],\n",
      "                 []],\n",
      " 'actionRobot': [[],\n",
      "                 [{'content': 'Break <object> in <location>', 'type': 'action'},\n",
      "                  {'content': 'Large rock', 'type': 'object'},\n",
      "                  {'content': 'Top of rock pile', 'type': 'location'}],\n",
      "                 []],\n",
      " 'cp_name': 'stand still break big rock',\n",
      " 'cp_num': 1,\n",
      " 'participant': 4071,\n",
      " 'remaining_rocks': 23,\n",
      " 'remaining_time': 3000,\n",
      " 'round_num': 1,\n",
      " 'situation': [[{'content': 'Large rock', 'type': 'object'},\n",
      "                {'content': 'Top of rock pile', 'type': 'location'}],\n",
      "               [{'content': 'Large rock', 'type': 'object'},\n",
      "                {'content': '<Left> side of rock pile', 'type': 'location'}],\n",
      "               [{'content': '<Right> side of field', 'type': 'location'},\n",
      "                {'content': 'Human', 'type': 'actor'}]],\n",
      " 'ticks_lasted': 844,\n",
      " 'timestamp': '2024-08-29T15:15:10',\n",
      " 'unix_timestamp': 1724937310,\n",
      " 'victim_harm': 1200}\n"
     ]
    }
   ],
   "source": [
    "from pprint import pprint\n",
    "\n",
    "pprint(data[1])"
   ]
  },
  {
   "cell_type": "code",
   "execution_count": 14,
   "metadata": {},
   "outputs": [],
   "source": [
    "import logging\n",
    "from rdflib import URIRef, Namespace\n",
    "from humemai import MemorySystem\n",
    "\n",
    "# Turn off debug logging\n",
    "logging.getLogger(\"humemai\").setLevel(logging.WARNING)\n",
    "\n",
    "# Define the custom namespace for humemai ontology\n",
    "humemai = Namespace(\"https://humem.ai/ontology/\")\n",
    "co_learning = Namespace(\"https://co_learning/\")\n",
    "\n",
    "\n",
    "memory_system = MemorySystem(verbose_repr=False)\n",
    "memory_system.memory.graph.bind(\"co_learning\", co_learning)\n",
    "\n",
    "memory_system.memory.add_long_term_memory(\n",
    "    memory_type=\"episodic\",\n",
    "    triples=[\n",
    "        (\n",
    "            URIRef(\"https://co_learning/entity/participant/P4069\"),\n",
    "            URIRef(\"https://co_learning/relation/hasSituation\"),\n",
    "            URIRef(\"https://co_learning/entity/situation/S00\"),\n",
    "        ),\n",
    "    ],\n",
    "    location=\"USAR\",\n",
    "    time=\"2024-05-03T13:41:23\",\n",
    "    event=\"CP000\",\n",
    ")\n",
    "memory_system.memory.add_long_term_memory(\n",
    "    memory_type=\"episodic\",\n",
    "    triples=[\n",
    "        (\n",
    "            URIRef(\"https://co_learning/entity/participant/P4069\"),\n",
    "            URIRef(\"https://co_learning/relation/hasSituation\"),\n",
    "            URIRef(\"https://co_learning/entity/situation/S00\"),\n",
    "        ),\n",
    "    ],\n",
    "    location=\"USAR\",\n",
    "    time=\"2024-05-03T13:41:23\",\n",
    "    event=\"CP001\",\n",
    ")"
   ]
  },
  {
   "cell_type": "code",
   "execution_count": 15,
   "metadata": {},
   "outputs": [
    {
     "data": {
      "text/plain": [
       "[P4069, hasSituation, S00, {'memoryID': '0', 'location': 'USAR', 'time': '2024-05-03T13:41:23', 'event': 'CP000', 'recalled': '0'}]\n",
       "[P4069, hasSituation, S00, {'memoryID': '1', 'location': 'USAR', 'time': '2024-05-03T13:41:23', 'event': 'CP001', 'recalled': '0'}]"
      ]
     },
     "execution_count": 15,
     "metadata": {},
     "output_type": "execute_result"
    }
   ],
   "source": [
    "memory_system.memory"
   ]
  },
  {
   "cell_type": "code",
   "execution_count": 16,
   "metadata": {},
   "outputs": [
    {
     "data": {
      "text/plain": [
       "[P4069, hasSituation, S00, {'memoryID': '0', 'location': 'USAR', 'time': '2024-05-03T13:41:23', 'event': 'CP000', 'recalled': '0'}]"
      ]
     },
     "execution_count": 16,
     "metadata": {},
     "output_type": "execute_result"
    }
   ],
   "source": [
    "memory_system.memory.get_memories(event=\"CP000\")"
   ]
  },
  {
   "cell_type": "code",
   "execution_count": 22,
   "metadata": {},
   "outputs": [
    {
     "name": "stdout",
     "output_type": "stream",
     "text": [
      "https://humem.ai/ontology/Alice https://humem.ai/ontology/co-learning/learns https://humem.ai/ontology/AI\n"
     ]
    }
   ],
   "source": [
    "triples = [\n",
    "    (URIRef(\"https://humem.ai/ontology/hasName\"), humemai.hasName, None),\n",
    "]\n",
    "\n",
    "from rdflib import Graph, Namespace\n",
    "\n",
    "humemai = Namespace(\"https://humem.ai/ontology/\")\n",
    "co_learning = Namespace(\"https://humem.ai/ontology/co-learning/\")\n",
    "\n",
    "# Create a new RDF graph\n",
    "g = Graph()\n",
    "\n",
    "# Bind the namespaces to prefixes in the RDF graph\n",
    "g.bind(\"humemai\", humemai)\n",
    "g.bind(\"co_learning\", co_learning)\n",
    "\n",
    "# Now you can use these namespaces for your triples or qualifiers\n",
    "subject = humemai.Alice\n",
    "predicate = co_learning.learns\n",
    "object_ = humemai.AI\n",
    "\n",
    "# Adding triples to the graph\n",
    "g.add((subject, predicate, object_))\n",
    "\n",
    "# Example to view what’s been added\n",
    "for s, p, o in g:\n",
    "    print(s, p, o)\n",
    "\n",
    "    \n"
   ]
  },
  {
   "cell_type": "code",
   "execution_count": 21,
   "metadata": {},
   "outputs": [
    {
     "data": {
      "text/plain": [
       "<Graph identifier=N42a3b594ab1544b887e1857c07c92968 (<class 'rdflib.graph.Graph'>)>"
      ]
     },
     "execution_count": 21,
     "metadata": {},
     "output_type": "execute_result"
    }
   ],
   "source": [
    "g"
   ]
  },
  {
   "cell_type": "code",
   "execution_count": 19,
   "metadata": {},
   "outputs": [
    {
     "data": {
      "text/plain": [
       "rdflib.term.URIRef('https://humem.ai/ontology/co-learning/p4069')"
      ]
     },
     "execution_count": 19,
     "metadata": {},
     "output_type": "execute_result"
    }
   ],
   "source": [
    "co_learning.p4069"
   ]
  },
  {
   "cell_type": "code",
   "execution_count": 12,
   "metadata": {},
   "outputs": [
    {
     "data": {
      "text/plain": [
       "Namespace('https://humem.ai/ontology/co-learning/')"
      ]
     },
     "execution_count": 12,
     "metadata": {},
     "output_type": "execute_result"
    }
   ],
   "source": [
    "co_learning"
   ]
  },
  {
   "cell_type": "code",
   "execution_count": 13,
   "metadata": {},
   "outputs": [
    {
     "data": {
      "text/plain": [
       "rdflib.term.URIRef('https://humem.ai/ontology/co-learning/foo')"
      ]
     },
     "execution_count": 13,
     "metadata": {},
     "output_type": "execute_result"
    }
   ],
   "source": [
    "co_learning.foo"
   ]
  },
  {
   "cell_type": "code",
   "execution_count": 16,
   "metadata": {},
   "outputs": [
    {
     "data": {
      "text/plain": [
       "rdflib.term.URIRef('https://humem.ai/ontology/co-learning/foo')"
      ]
     },
     "execution_count": 16,
     "metadata": {},
     "output_type": "execute_result"
    }
   ],
   "source": [
    "URIRef(co_learning.foo)"
   ]
  },
  {
   "cell_type": "code",
   "execution_count": 27,
   "metadata": {},
   "outputs": [
    {
     "data": {
      "text/plain": [
       "rdflib.term.URIRef('https://humem.ai/ontology/foo/bar')"
      ]
     },
     "execution_count": 27,
     "metadata": {},
     "output_type": "execute_result"
    }
   ],
   "source": [
    "humemai = Namespace(\"https://humem.ai/ontology/\")\n",
    "URIRef(\"https://humem.ai/ontology/foo/bar\")\n",
    "humemai.foo.bar"
   ]
  },
  {
   "cell_type": "code",
   "execution_count": 26,
   "metadata": {},
   "outputs": [
    {
     "ename": "AttributeError",
     "evalue": "'URIRef' object has no attribute 'bar'",
     "output_type": "error",
     "traceback": [
      "\u001b[0;31m---------------------------------------------------------------------------\u001b[0m",
      "\u001b[0;31mAttributeError\u001b[0m                            Traceback (most recent call last)",
      "Cell \u001b[0;32mIn[26], line 1\u001b[0m\n\u001b[0;32m----> 1\u001b[0m \u001b[43mhumemai\u001b[49m\u001b[38;5;241;43m.\u001b[39;49m\u001b[43mfoo\u001b[49m\u001b[38;5;241;43m.\u001b[39;49m\u001b[43mbar\u001b[49m\n",
      "\u001b[0;31mAttributeError\u001b[0m: 'URIRef' object has no attribute 'bar'"
     ]
    }
   ],
   "source": []
  }
 ],
 "metadata": {
  "kernelspec": {
   "display_name": "co-learning",
   "language": "python",
   "name": "python3"
  },
  "language_info": {
   "codemirror_mode": {
    "name": "ipython",
    "version": 3
   },
   "file_extension": ".py",
   "mimetype": "text/x-python",
   "name": "python",
   "nbconvert_exporter": "python",
   "pygments_lexer": "ipython3",
   "version": "3.8.20"
  }
 },
 "nbformat": 4,
 "nbformat_minor": 2
}
